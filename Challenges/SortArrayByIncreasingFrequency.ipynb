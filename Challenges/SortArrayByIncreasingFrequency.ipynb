{
 "cells": [
  {
   "cell_type": "markdown",
   "metadata": {},
   "source": [
    "### Given an array of integers nums, sort the array in increasing order based on the frequency of the values. If multiple values have the same frequency, sort them in decreasing order."
   ]
  },
  {
   "cell_type": "code",
   "execution_count": 1,
   "metadata": {},
   "outputs": [
    {
     "data": {
      "text/plain": [
       "\"\\nExample 1:\\n\\nInput: nums = [1,1,2,2,2,3]\\nOutput: [3,1,1,2,2,2]\\nExplanation: '3' has a frequency of 1, '1' has a frequency of 2, and '2' has a frequency of 3.\\n\\nExample 2:\\n\\nInput: nums = [2,3,1,3,2]\\nOutput: [1,3,3,2,2]\\nExplanation: '2' and '3' both have a frequency of 2, so they are sorted in decreasing order.\\n\\nExample 3:\\n\\nInput: nums = [-1,1,-6,4,5,-6,1,4,1]\\nOutput: [5,-1,4,4,-6,-6,1,1,1]\\n\\n\""
      ]
     },
     "execution_count": 1,
     "metadata": {},
     "output_type": "execute_result"
    }
   ],
   "source": [
    "\n",
    "'''\n",
    "Example 1:\n",
    "\n",
    "Input: nums = [1,1,2,2,2,3]\n",
    "Output: [3,1,1,2,2,2]\n",
    "Explanation: '3' has a frequency of 1, '1' has a frequency of 2, and '2' has a frequency of 3.\n",
    "\n",
    "Example 2:\n",
    "\n",
    "Input: nums = [2,3,1,3,2]\n",
    "Output: [1,3,3,2,2]\n",
    "Explanation: '2' and '3' both have a frequency of 2, so they are sorted in decreasing order.\n",
    "\n",
    "Example 3:\n",
    "\n",
    "Input: nums = [-1,1,-6,4,5,-6,1,4,1]\n",
    "Output: [5,-1,4,4,-6,-6,1,1,1]\n",
    "\n",
    "'''"
   ]
  },
  {
   "cell_type": "code",
   "execution_count": 88,
   "metadata": {},
   "outputs": [],
   "source": [
    "from collections import Counter\n",
    "\n",
    "# 1636. Sort Array by Increasing Frequency\n",
    "class Solution(object):\n",
    "    def frequencySort(self, nums):\n",
    "        freq = Counter(nums)\n",
    "        print(freq)\n",
    "        nums.sort(key=lambda x: (freq[x]))\n",
    "\n",
    "        return nums\n",
    "        \"\"\"\n",
    "        \n",
    "        :type nums: List[int]\n",
    "        :rtype: List[int]\n",
    "        \"\"\"\n",
    "        "
   ]
  },
  {
   "cell_type": "code",
   "execution_count": 89,
   "metadata": {},
   "outputs": [
    {
     "name": "stdout",
     "output_type": "stream",
     "text": [
      "Counter({2: 3, 3: 3, 1: 2, 4: 1})\n"
     ]
    },
    {
     "data": {
      "text/plain": [
       "[4, 1, 1, 2, 2, 2, 3, 3, 3]"
      ]
     },
     "execution_count": 89,
     "metadata": {},
     "output_type": "execute_result"
    }
   ],
   "source": [
    "Solution.frequencySort(0,[1,1,2,2,2,3,3,3,4])"
   ]
  },
  {
   "cell_type": "code",
   "execution_count": 78,
   "metadata": {},
   "outputs": [
    {
     "name": "stdout",
     "output_type": "stream",
     "text": [
      "Counter({2: 3, 3: 3, 1: 2, 4: 1})\n"
     ]
    },
    {
     "data": {
      "text/plain": [
       "0"
      ]
     },
     "execution_count": 78,
     "metadata": {},
     "output_type": "execute_result"
    }
   ],
   "source": [
    "x = [1,2,1,2,3,2,3,4,3]\n",
    "\n",
    "\n",
    "freq = Counter(x)\n",
    "print(freq)\n",
    "freq[5]"
   ]
  },
  {
   "cell_type": "code",
   "execution_count": 79,
   "metadata": {},
   "outputs": [
    {
     "data": {
      "text/plain": [
       "[1, 1, 2, 2, 2, 3, 3, 3, 4]"
      ]
     },
     "execution_count": 79,
     "metadata": {},
     "output_type": "execute_result"
    }
   ],
   "source": [
    "x.sort()\n",
    "x"
   ]
  }
 ],
 "metadata": {
  "kernelspec": {
   "display_name": "Python 3",
   "language": "python",
   "name": "python3"
  },
  "language_info": {
   "codemirror_mode": {
    "name": "ipython",
    "version": 3
   },
   "file_extension": ".py",
   "mimetype": "text/x-python",
   "name": "python",
   "nbconvert_exporter": "python",
   "pygments_lexer": "ipython3",
   "version": "3.12.4"
  }
 },
 "nbformat": 4,
 "nbformat_minor": 2
}
