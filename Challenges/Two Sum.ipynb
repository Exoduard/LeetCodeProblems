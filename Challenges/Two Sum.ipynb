{
 "cells": [
  {
   "cell_type": "code",
   "execution_count": 1,
   "metadata": {},
   "outputs": [],
   "source": [
    "import pandas as pd\n",
    "import numpy as np"
   ]
  },
  {
   "cell_type": "markdown",
   "metadata": {},
   "source": [
    "#### Initial idea..."
   ]
  },
  {
   "cell_type": "code",
   "execution_count": 49,
   "metadata": {},
   "outputs": [],
   "source": [
    "class Solution(object):\n",
    "    def twoSum(self, nums, target):\n",
    "        index = []\n",
    "        for x in nums:\n",
    "            if (x < target) & (sum(index) != target):\n",
    "                index.append(nums.index(x))\n",
    "        return index\n",
    "\n",
    "        "
   ]
  },
  {
   "cell_type": "code",
   "execution_count": 50,
   "metadata": {},
   "outputs": [
    {
     "data": {
      "text/plain": [
       "[0, 1]"
      ]
     },
     "execution_count": 50,
     "metadata": {},
     "output_type": "execute_result"
    }
   ],
   "source": [
    "Solution.twoSum(None,target = 9, nums = [2,7,11,15])"
   ]
  },
  {
   "cell_type": "code",
   "execution_count": 51,
   "metadata": {},
   "outputs": [
    {
     "data": {
      "text/plain": [
       "[0, 1, 2]"
      ]
     },
     "execution_count": 51,
     "metadata": {},
     "output_type": "execute_result"
    }
   ],
   "source": [
    "Solution.twoSum(None,target = 9, nums = [3,2,4])"
   ]
  },
  {
   "cell_type": "markdown",
   "metadata": {},
   "source": [
    "### Only worked for first solution. Had to change it to this >"
   ]
  },
  {
   "cell_type": "code",
   "execution_count": 55,
   "metadata": {},
   "outputs": [],
   "source": [
    "\n",
    "class Solution(object):\n",
    "    def twoSum(self, nums, target):\n",
    "        index = []\n",
    "        for x in nums:\n",
    "            if x < target:\n",
    "                index.append(nums.index(x))\n",
    "            if (sum(index) != target) & (len(index) == 3):\n",
    "                index.pop(0)\n",
    "        return index\n",
    "\n"
   ]
  },
  {
   "cell_type": "markdown",
   "metadata": {},
   "source": [
    "### Sadly, this doesnt work on duplicate numbers...."
   ]
  },
  {
   "cell_type": "code",
   "execution_count": 59,
   "metadata": {},
   "outputs": [
    {
     "data": {
      "text/plain": [
       "[1, 2]"
      ]
     },
     "execution_count": 59,
     "metadata": {},
     "output_type": "execute_result"
    }
   ],
   "source": [
    "Solution.twoSum(None,target = 9, nums = [3,2,4])"
   ]
  },
  {
   "cell_type": "code",
   "execution_count": 60,
   "metadata": {},
   "outputs": [
    {
     "data": {
      "text/plain": [
       "[0, 1]"
      ]
     },
     "execution_count": 60,
     "metadata": {},
     "output_type": "execute_result"
    }
   ],
   "source": [
    "Solution.twoSum(None,target = 9, nums = [2,7,11,15])"
   ]
  },
  {
   "cell_type": "code",
   "execution_count": 61,
   "metadata": {},
   "outputs": [
    {
     "data": {
      "text/plain": [
       "[0, 0]"
      ]
     },
     "execution_count": 61,
     "metadata": {},
     "output_type": "execute_result"
    }
   ],
   "source": [
    "Solution.twoSum(None,target = 9, nums = [3,3])\n",
    "\n",
    "## wrong... sad..."
   ]
  },
  {
   "cell_type": "markdown",
   "metadata": {},
   "source": [
    "### After looking up, one of the solutions was to create a dictionary to store the numbers seen so far and their indices...  "
   ]
  },
  {
   "cell_type": "code",
   "execution_count": 111,
   "metadata": {},
   "outputs": [],
   "source": [
    "class Solution(object):\n",
    "    def twoSum(self, nums, target):\n",
    "        num_dict = {}\n",
    "        for i, num in enumerate(nums):\n",
    "            complement = target - num\n",
    "            if complement in num_dict:\n",
    "                return [num_dict[complement], i]\n",
    "            num_dict[num] = i\n",
    "        return[]"
   ]
  },
  {
   "cell_type": "code",
   "execution_count": 112,
   "metadata": {},
   "outputs": [
    {
     "data": {
      "text/plain": [
       "[0, 1]"
      ]
     },
     "execution_count": 112,
     "metadata": {},
     "output_type": "execute_result"
    }
   ],
   "source": [
    "Solution.twoSum(None, nums = [3,3], target=6)"
   ]
  },
  {
   "cell_type": "code",
   "execution_count": 115,
   "metadata": {},
   "outputs": [
    {
     "name": "stdout",
     "output_type": "stream",
     "text": [
      "[0, 2]\n",
      "[1, 6]\n",
      "[2, 2]\n",
      "[3, 4]\n",
      "----\n",
      "[0, 2]\n",
      "[1, 3]\n",
      "[2, 5]\n",
      "[3, 6]\n",
      "[4, 2]\n"
     ]
    }
   ],
   "source": [
    "## Enumerate creates iterations of each value in our list and gives them an index number! \n",
    "\n",
    "\n",
    "nums = [2,6,2,4]\n",
    "\n",
    "num_dict = {}\n",
    "for i, num in enumerate(nums):\n",
    "    print([i,num])\n",
    "\n",
    "print('----')\n",
    "nums = [2,3,5,6,2]\n",
    "\n",
    "for i,num in enumerate(nums):\n",
    "    print([i,num])"
   ]
  },
  {
   "cell_type": "code",
   "execution_count": 105,
   "metadata": {},
   "outputs": [],
   "source": [
    "for i, num in enumerate(nums):\n",
    "    complement = target - num\n",
    "    if complement in num_dict:\n",
    "        [num_dict[complement], i]\n",
    "    num_dict[num] = i\n"
   ]
  }
 ],
 "metadata": {
  "kernelspec": {
   "display_name": "Python 3",
   "language": "python",
   "name": "python3"
  },
  "language_info": {
   "codemirror_mode": {
    "name": "ipython",
    "version": 3
   },
   "file_extension": ".py",
   "mimetype": "text/x-python",
   "name": "python",
   "nbconvert_exporter": "python",
   "pygments_lexer": "ipython3",
   "version": "3.12.4"
  }
 },
 "nbformat": 4,
 "nbformat_minor": 2
}
