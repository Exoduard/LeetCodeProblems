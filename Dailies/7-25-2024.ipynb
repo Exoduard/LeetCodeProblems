{
 "cells": [
  {
   "cell_type": "markdown",
   "metadata": {},
   "source": [
    "#### Tried a bunch of times with different approaches but none seemed to work... probably due to the fact that this would be my first time coding nearest neighbor problems..."
   ]
  },
  {
   "cell_type": "code",
   "execution_count": 7,
   "metadata": {},
   "outputs": [],
   "source": [
    "class Solution(object):\n",
    "    def findTheCity(self, n, edges, maxd):\n",
    "        dis = [[float('inf')] * n for _ in range(n)]\n",
    "        for i, j, w in edges:\n",
    "            dis[i][j] = dis[j][i] = w\n",
    "        for i in range(n):\n",
    "            dis[i][i] = 0\n",
    "        for k in range(n):\n",
    "            for i in range(n):\n",
    "                for j in range(n):\n",
    "                    dis[i][j] = min(dis[i][j], dis[i][k] + dis[k][j])\n",
    "        res = {sum(d <= maxd for d in dis[i]): i for i in range(n)}\n",
    "        return res[min(res)]"
   ]
  },
  {
   "cell_type": "code",
   "execution_count": 8,
   "metadata": {},
   "outputs": [
    {
     "data": {
      "text/plain": [
       "3"
      ]
     },
     "execution_count": 8,
     "metadata": {},
     "output_type": "execute_result"
    }
   ],
   "source": [
    "Solution.findTheCity(None,4,[[0,1,3],[1,2,1],[1,3,4],[2,3,1]], maxd = 4)\n"
   ]
  },
  {
   "cell_type": "markdown",
   "metadata": {},
   "source": [
    "## Found this cool video that explained an approach to the solution https://www.youtube.com/watch?v=4ZlRH0eK-qQ"
   ]
  },
  {
   "cell_type": "code",
   "execution_count": null,
   "metadata": {},
   "outputs": [],
   "source": []
  }
 ],
 "metadata": {
  "kernelspec": {
   "display_name": "Python 3",
   "language": "python",
   "name": "python3"
  },
  "language_info": {
   "codemirror_mode": {
    "name": "ipython",
    "version": 3
   },
   "file_extension": ".py",
   "mimetype": "text/x-python",
   "name": "python",
   "nbconvert_exporter": "python",
   "pygments_lexer": "ipython3",
   "version": "3.12.4"
  }
 },
 "nbformat": 4,
 "nbformat_minor": 2
}
